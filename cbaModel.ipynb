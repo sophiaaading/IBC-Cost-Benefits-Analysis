{
 "cells": [
  {
   "cell_type": "code",
   "execution_count": 1,
   "metadata": {},
   "outputs": [],
   "source": [
    "import pandas as pd\n",
    "import numpy as np"
   ]
  },
  {
   "cell_type": "code",
   "execution_count": 7,
   "metadata": {},
   "outputs": [],
   "source": [
    "def cbaModel(hashtable):\n",
    "    \n",
    "    #hash table\n",
    "    hashTable = hashtable[hashtable.columns[0:2]] \n",
    "    hashDic = hashTable.set_index('Parameter')['hash value'].to_dict()\n",
    "    \n",
    "    #read in data based on year\n",
    "    #year: 0 (2018); 1 (2019)\n",
    "    year = hashDic.get('year')\n",
    "    if year == 0:\n",
    "        data = pd.read_excel (r'~/Desktop/Volume data by region_DTS + Sophia copy.xlsx', sheet_name='Volume 2018')\n",
    "    elif year == 1:\n",
    "        data = pd.read_excel (r'~/Desktop/Volume data by region_DTS + Sophia copy.xlsx', sheet_name='Volume 2019')\n",
    "    \n",
    "    #sourcing types: 0 (outsourcing); 1 (insourcing); 2 (hybrid)\n",
    "    sourcing = hashDic.get('sourcing')\n",
    "    \n",
    "    \n",
    "    #outsourcing\n",
    "    #total outsourcing cost = cost provided by Abbott + shipping cost\n",
    "    if sourcing == 0:\n",
    "        location = hashDic.get('location')\n",
    "    \n",
    "    #account type: 0 (US Commercial); 1 (US R&D); 2 (EU Commercial); 3 (EU R&D)\n",
    "    accountType = hashDic.get('account type') \n",
    " \n",
    "    if accountType == 0:\n",
    "        account = 'US Commercial'\n",
    "    elif accountType == 1:\n",
    "        account = 'US R&D'\n",
    "    elif accountType == 2:\n",
    "        account = 'EU Commercial'\n",
    "    elif accountType == 3:\n",
    "        account = 'EU R&D'\n",
    "    \n",
    "    #cost provided by Abbott\n",
    "    df_cost = data.loc[(data['Location'] == location) & (data['Account Type'] == account)]\n",
    "    volume = df_cost['Cost Item Description'].count()\n",
    "    cost = df_cost['Cost Item List Price'].sum()\n",
    "    \n",
    "    #shipping cost\n",
    "    shippingCost = pd.read_excel (r'~/Desktop/Volume data by region_DTS + Sophia copy.xlsx', sheet_name='shipping')\n",
    "    origin_location = hashDic.get('origin location') \n",
    "    test_location = hashDic.get('test location') \n",
    "    origin_test_location = (origin_location, test_location)\n",
    "    \n",
    "    shippingDic = dict([((a,b), i) for a,b, i in zip(shippingCost['from'],shippingCost['to'], shippingCost['cost'],)])\n",
    "    shipping_cost = shippingDic.get(origin_test_location)\n",
    "    \n",
    "    total_outsourcing_cost = cost + shipping_cost\n",
    "    \n",
    "    print('Total Volume is: ' + str(volume))\n",
    "    print('Total Cost is: ' + str(total_outsourcing_cost))"
   ]
  },
  {
   "cell_type": "code",
   "execution_count": 8,
   "metadata": {},
   "outputs": [
    {
     "name": "stdout",
     "output_type": "stream",
     "text": [
      "Total Volume is: 938\n",
      "Total Cost is: 206307.34000000003\n"
     ]
    }
   ],
   "source": [
    "hashtable = pd.read_excel (r'~/Desktop/Volume data by region_DTS + Sophia copy.xlsx', sheet_name='hashtable')\n",
    "cbaModel(hashtable)"
   ]
  },
  {
   "cell_type": "code",
   "execution_count": null,
   "metadata": {},
   "outputs": [],
   "source": []
  }
 ],
 "metadata": {
  "kernelspec": {
   "display_name": "Python 3",
   "language": "python",
   "name": "python3"
  },
  "language_info": {
   "codemirror_mode": {
    "name": "ipython",
    "version": 3
   },
   "file_extension": ".py",
   "mimetype": "text/x-python",
   "name": "python",
   "nbconvert_exporter": "python",
   "pygments_lexer": "ipython3",
   "version": "3.7.4"
  }
 },
 "nbformat": 4,
 "nbformat_minor": 2
}
